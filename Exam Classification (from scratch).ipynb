{
 "cells": [
  {
   "cell_type": "markdown",
   "id": "29e91ea5-07e0-447e-8257-b32f3e77cbdd",
   "metadata": {},
   "source": [
    "# Import Libraries"
   ]
  },
  {
   "cell_type": "code",
   "execution_count": 1,
   "id": "faa56179-36c8-4478-9ffe-afd20218476b",
   "metadata": {},
   "outputs": [],
   "source": [
    "import pandas as pd # Library for open files\n",
    "import numpy as np # Library for mathematical operations\n",
    "import matplotlib.pyplot as plt # Library for graph"
   ]
  },
  {
   "cell_type": "markdown",
   "id": "8eceff7e-ae8b-4e94-b657-969bd5cf5d5b",
   "metadata": {},
   "source": [
    "# Load Data"
   ]
  },
  {
   "cell_type": "code",
   "execution_count": 2,
   "id": "187490d9-5a3c-4f1e-bb40-526788959863",
   "metadata": {},
   "outputs": [
    {
     "name": "stdout",
     "output_type": "stream",
     "text": [
      "Data Frame:\n"
     ]
    },
    {
     "data": {
      "text/html": [
       "<div>\n",
       "<style scoped>\n",
       "    .dataframe tbody tr th:only-of-type {\n",
       "        vertical-align: middle;\n",
       "    }\n",
       "\n",
       "    .dataframe tbody tr th {\n",
       "        vertical-align: top;\n",
       "    }\n",
       "\n",
       "    .dataframe thead th {\n",
       "        text-align: right;\n",
       "    }\n",
       "</style>\n",
       "<table border=\"1\" class=\"dataframe\">\n",
       "  <thead>\n",
       "    <tr style=\"text-align: right;\">\n",
       "      <th></th>\n",
       "      <th>Exam 1</th>\n",
       "      <th>Exam 2</th>\n",
       "      <th>Admitted</th>\n",
       "    </tr>\n",
       "  </thead>\n",
       "  <tbody>\n",
       "    <tr>\n",
       "      <th>0</th>\n",
       "      <td>34.623660</td>\n",
       "      <td>78.024693</td>\n",
       "      <td>0</td>\n",
       "    </tr>\n",
       "    <tr>\n",
       "      <th>1</th>\n",
       "      <td>30.286711</td>\n",
       "      <td>43.894998</td>\n",
       "      <td>0</td>\n",
       "    </tr>\n",
       "    <tr>\n",
       "      <th>2</th>\n",
       "      <td>35.847409</td>\n",
       "      <td>72.902198</td>\n",
       "      <td>0</td>\n",
       "    </tr>\n",
       "    <tr>\n",
       "      <th>3</th>\n",
       "      <td>60.182599</td>\n",
       "      <td>86.308552</td>\n",
       "      <td>1</td>\n",
       "    </tr>\n",
       "    <tr>\n",
       "      <th>4</th>\n",
       "      <td>79.032736</td>\n",
       "      <td>75.344376</td>\n",
       "      <td>1</td>\n",
       "    </tr>\n",
       "    <tr>\n",
       "      <th>5</th>\n",
       "      <td>45.083277</td>\n",
       "      <td>56.316372</td>\n",
       "      <td>0</td>\n",
       "    </tr>\n",
       "    <tr>\n",
       "      <th>6</th>\n",
       "      <td>61.106665</td>\n",
       "      <td>96.511426</td>\n",
       "      <td>1</td>\n",
       "    </tr>\n",
       "    <tr>\n",
       "      <th>7</th>\n",
       "      <td>75.024746</td>\n",
       "      <td>46.554014</td>\n",
       "      <td>1</td>\n",
       "    </tr>\n",
       "    <tr>\n",
       "      <th>8</th>\n",
       "      <td>76.098787</td>\n",
       "      <td>87.420570</td>\n",
       "      <td>1</td>\n",
       "    </tr>\n",
       "    <tr>\n",
       "      <th>9</th>\n",
       "      <td>84.432820</td>\n",
       "      <td>43.533393</td>\n",
       "      <td>1</td>\n",
       "    </tr>\n",
       "  </tbody>\n",
       "</table>\n",
       "</div>"
      ],
      "text/plain": [
       "      Exam 1     Exam 2  Admitted\n",
       "0  34.623660  78.024693         0\n",
       "1  30.286711  43.894998         0\n",
       "2  35.847409  72.902198         0\n",
       "3  60.182599  86.308552         1\n",
       "4  79.032736  75.344376         1\n",
       "5  45.083277  56.316372         0\n",
       "6  61.106665  96.511426         1\n",
       "7  75.024746  46.554014         1\n",
       "8  76.098787  87.420570         1\n",
       "9  84.432820  43.533393         1"
      ]
     },
     "execution_count": 2,
     "metadata": {},
     "output_type": "execute_result"
    }
   ],
   "source": [
    "#                                       Path                                             File Name  Extension\n",
    "path = r'D:\\Abdulrhman Osama\\Machine Learning Projects\\Exam Classification (from scratch)\\ex2data1.txt'\n",
    "\n",
    "#                                              Column 1   Column 2  Target\n",
    "df = pd.read_csv(path, header = None, names = ['Exam 1', 'Exam 2', 'Admitted'])\n",
    "\n",
    "print('Data Frame:')\n",
    "df.head(10) # show the first ten rows from the data"
   ]
  },
  {
   "cell_type": "code",
   "execution_count": 3,
   "id": "c5ca69ab-c739-45e1-accd-a32bd2edac96",
   "metadata": {},
   "outputs": [
    {
     "name": "stdout",
     "output_type": "stream",
     "text": [
      "Data Describe:\n"
     ]
    },
    {
     "data": {
      "text/html": [
       "<div>\n",
       "<style scoped>\n",
       "    .dataframe tbody tr th:only-of-type {\n",
       "        vertical-align: middle;\n",
       "    }\n",
       "\n",
       "    .dataframe tbody tr th {\n",
       "        vertical-align: top;\n",
       "    }\n",
       "\n",
       "    .dataframe thead th {\n",
       "        text-align: right;\n",
       "    }\n",
       "</style>\n",
       "<table border=\"1\" class=\"dataframe\">\n",
       "  <thead>\n",
       "    <tr style=\"text-align: right;\">\n",
       "      <th></th>\n",
       "      <th>Exam 1</th>\n",
       "      <th>Exam 2</th>\n",
       "      <th>Admitted</th>\n",
       "    </tr>\n",
       "  </thead>\n",
       "  <tbody>\n",
       "    <tr>\n",
       "      <th>count</th>\n",
       "      <td>100.000000</td>\n",
       "      <td>100.000000</td>\n",
       "      <td>100.000000</td>\n",
       "    </tr>\n",
       "    <tr>\n",
       "      <th>mean</th>\n",
       "      <td>65.644274</td>\n",
       "      <td>66.221998</td>\n",
       "      <td>0.600000</td>\n",
       "    </tr>\n",
       "    <tr>\n",
       "      <th>std</th>\n",
       "      <td>19.458222</td>\n",
       "      <td>18.582783</td>\n",
       "      <td>0.492366</td>\n",
       "    </tr>\n",
       "    <tr>\n",
       "      <th>min</th>\n",
       "      <td>30.058822</td>\n",
       "      <td>30.603263</td>\n",
       "      <td>0.000000</td>\n",
       "    </tr>\n",
       "    <tr>\n",
       "      <th>25%</th>\n",
       "      <td>50.919511</td>\n",
       "      <td>48.179205</td>\n",
       "      <td>0.000000</td>\n",
       "    </tr>\n",
       "    <tr>\n",
       "      <th>50%</th>\n",
       "      <td>67.032988</td>\n",
       "      <td>67.682381</td>\n",
       "      <td>1.000000</td>\n",
       "    </tr>\n",
       "    <tr>\n",
       "      <th>75%</th>\n",
       "      <td>80.212529</td>\n",
       "      <td>79.360605</td>\n",
       "      <td>1.000000</td>\n",
       "    </tr>\n",
       "    <tr>\n",
       "      <th>max</th>\n",
       "      <td>99.827858</td>\n",
       "      <td>98.869436</td>\n",
       "      <td>1.000000</td>\n",
       "    </tr>\n",
       "  </tbody>\n",
       "</table>\n",
       "</div>"
      ],
      "text/plain": [
       "           Exam 1      Exam 2    Admitted\n",
       "count  100.000000  100.000000  100.000000\n",
       "mean    65.644274   66.221998    0.600000\n",
       "std     19.458222   18.582783    0.492366\n",
       "min     30.058822   30.603263    0.000000\n",
       "25%     50.919511   48.179205    0.000000\n",
       "50%     67.032988   67.682381    1.000000\n",
       "75%     80.212529   79.360605    1.000000\n",
       "max     99.827858   98.869436    1.000000"
      ]
     },
     "execution_count": 3,
     "metadata": {},
     "output_type": "execute_result"
    }
   ],
   "source": [
    "print('Data Describe:')\n",
    "df.describe() # describe the data by the minimum, maximum, the number of it, mean, standard deviation, etc..."
   ]
  },
  {
   "cell_type": "markdown",
   "id": "d4ed5e8e-627f-45dd-88aa-552406d3d397",
   "metadata": {},
   "source": [
    "# Rearrange Data"
   ]
  },
  {
   "cell_type": "code",
   "execution_count": 4,
   "id": "14653ccb-260e-41d6-9f84-37bf9a28418a",
   "metadata": {},
   "outputs": [
    {
     "name": "stdout",
     "output_type": "stream",
     "text": [
      "Admitted \"Ones\":\n",
      "       Exam 1     Exam 2  Admitted\n",
      "3   60.182599  86.308552         1\n",
      "4   79.032736  75.344376         1\n",
      "6   61.106665  96.511426         1\n",
      "7   75.024746  46.554014         1\n",
      "8   76.098787  87.420570         1\n",
      "9   84.432820  43.533393         1\n",
      "12  82.307053  76.481963         1\n",
      "13  69.364589  97.718692         1\n",
      "15  53.971052  89.207350         1\n",
      "16  69.070144  52.740470         1\n",
      "18  70.661510  92.927138         1\n",
      "19  76.978784  47.575964         1\n",
      "21  89.676776  65.799366         1\n",
      "24  77.924091  68.972360         1\n",
      "25  62.271014  69.954458         1\n",
      "26  80.190181  44.821629         1\n",
      "30  61.379289  72.807887         1\n",
      "31  85.404519  57.051984         1\n",
      "33  52.045405  69.432860         1\n",
      "37  64.176989  80.908061         1\n",
      "40  83.902394  56.308046         1\n",
      "42  94.443368  65.568922         1\n",
      "46  77.193035  70.458200         1\n",
      "47  97.771599  86.727822         1\n",
      "48  62.073064  96.768824         1\n",
      "49  91.564974  88.696293         1\n",
      "50  79.944818  74.163119         1\n",
      "51  99.272527  60.999031         1\n",
      "52  90.546714  43.390602         1\n",
      "56  97.645634  68.861573         1\n",
      "58  74.248691  69.824571         1\n",
      "59  71.796462  78.453562         1\n",
      "60  75.395611  85.759937         1\n",
      "66  40.457551  97.535185         1\n",
      "68  80.279574  92.116061         1\n",
      "69  66.746719  60.991394         1\n",
      "71  64.039320  78.031688         1\n",
      "72  72.346494  96.227593         1\n",
      "73  60.457886  73.094998         1\n",
      "74  58.840956  75.858448         1\n",
      "75  99.827858  72.369252         1\n",
      "76  47.264269  88.475865         1\n",
      "77  50.458160  75.809860         1\n",
      "80  88.913896  69.803789         1\n",
      "81  94.834507  45.694307         1\n",
      "82  67.319257  66.589353         1\n",
      "83  57.238706  59.514282         1\n",
      "84  80.366756  90.960148         1\n",
      "85  68.468522  85.594307         1\n",
      "87  75.477702  90.424539         1\n",
      "88  78.635424  96.647427         1\n",
      "90  94.094331  77.159105         1\n",
      "91  90.448551  87.508792         1\n",
      "93  74.492692  84.845137         1\n",
      "94  89.845807  45.358284         1\n",
      "95  83.489163  48.380286         1\n",
      "96  42.261701  87.103851         1\n",
      "97  99.315009  68.775409         1\n",
      "98  55.340018  64.931938         1\n",
      "99  74.775893  89.529813         1\n",
      "\n",
      "Admitted \"Zeros\":\n",
      "       Exam 1     Exam 2  Admitted\n",
      "0   34.623660  78.024693         0\n",
      "1   30.286711  43.894998         0\n",
      "2   35.847409  72.902198         0\n",
      "5   45.083277  56.316372         0\n",
      "10  95.861555  38.225278         0\n",
      "11  75.013658  30.603263         0\n",
      "14  39.538339  76.036811         0\n",
      "17  67.946855  46.678574         0\n",
      "20  67.372028  42.838438         0\n",
      "22  50.534788  48.855812         0\n",
      "23  34.212061  44.209529         0\n",
      "27  93.114389  38.800670         0\n",
      "28  61.830206  50.256108         0\n",
      "29  38.785804  64.995681         0\n",
      "32  52.107980  63.127624         0\n",
      "34  40.236894  71.167748         0\n",
      "35  54.635106  52.213886         0\n",
      "36  33.915500  98.869436         0\n",
      "38  74.789253  41.573415         0\n",
      "39  34.183640  75.237720         0\n",
      "41  51.547720  46.856290         0\n",
      "43  82.368754  40.618255         0\n",
      "44  51.047752  45.822701         0\n",
      "45  62.222676  52.060992         0\n",
      "53  34.524514  60.396342         0\n",
      "54  50.286496  49.804539         0\n",
      "55  49.586677  59.808951         0\n",
      "57  32.577200  95.598548         0\n",
      "61  35.286113  47.020514         0\n",
      "62  56.253817  39.261473         0\n",
      "63  30.058822  49.592974         0\n",
      "64  44.668262  66.450086         0\n",
      "65  66.560894  41.092098         0\n",
      "67  49.072563  51.883212         0\n",
      "70  32.722833  43.307173         0\n",
      "78  60.455556  42.508409         0\n",
      "79  82.226662  42.719879         0\n",
      "86  42.075455  78.844786         0\n",
      "89  52.348004  60.769505         0\n",
      "92  55.482161  35.570703         0\n"
     ]
    }
   ],
   "source": [
    "ones = df[df['Admitted'].isin([1])] # All admitted students\n",
    "\n",
    "zeros = df[df['Admitted'].isin([0])] # All not admitted students\n",
    "\n",
    "print('Admitted \"Ones\":')\n",
    "print(ones)\n",
    "print()\n",
    "print('Admitted \"Zeros\":')\n",
    "print(zeros)"
   ]
  },
  {
   "cell_type": "markdown",
   "id": "859a6fcd-3cc9-46e4-b8bd-81f421dfadfb",
   "metadata": {},
   "source": [
    "# Draw the data on a plot"
   ]
  },
  {
   "cell_type": "code",
   "execution_count": 5,
   "id": "ca1f55c8-bfcf-46a0-9d58-335e37d2887e",
   "metadata": {},
   "outputs": [
    {
     "data": {
      "text/plain": [
       "Text(0, 0.5, 'Exam 2 Score')"
      ]
     },
     "execution_count": 5,
     "metadata": {},
     "output_type": "execute_result"
    },
    {
     "data": {
      "image/png": "[encoded data removed]",
      "text/plain": [
       "<Figure size 500x500 with 1 Axes>"
      ]
     },
     "metadata": {},
     "output_type": "display_data"
    }
   ],
   "source": [
    "fig, ax = plt.subplots(figsize = (5, 5))\n",
    "\n",
    "ax.scatter(ones['Exam 1'], ones['Exam 2'], s = 75, c = 'b', marker = 'o', label = 'Admitted')\n",
    "ax.scatter(zeros['Exam 1'], zeros['Exam 2'], s = 75, c = 'r', marker = 'x', label = 'Not Admitted')\n",
    "\n",
    "ax.legend()\n",
    "\n",
    "ax.set_xlabel('Exam 1 Score')\n",
    "ax.set_ylabel('Exam 2 Score')"
   ]
  },
  {
   "cell_type": "code",
   "execution_count": 6,
   "id": "95834568-9e78-49d7-aef2-342928f98e34",
   "metadata": {},
   "outputs": [
    {
     "data": {
      "text/plain": [
       "Admitted\n",
       "1    60\n",
       "0    40\n",
       "Name: count, dtype: int64"
      ]
     },
     "execution_count": 6,
     "metadata": {},
     "output_type": "execute_result"
    }
   ],
   "source": [
    "Admitted_Data = df['Admitted'].value_counts()\n",
    "# Count the number of students that are admitted '1'\n",
    "# & count the number of students that are not admitted '0'\n",
    "Admitted_Data"
   ]
  },
  {
   "cell_type": "code",
   "execution_count": 7,
   "id": "fa0e8d9b-52a0-43f7-94e5-cbb0cfebc35e",
   "metadata": {},
   "outputs": [
    {
     "data": {
      "text/plain": [
       "<function matplotlib.pyplot.show(close=None, block=None)>"
      ]
     },
     "execution_count": 7,
     "metadata": {},
     "output_type": "execute_result"
    },
    {
     "data": {
      "image/png": "[encoded data removed]",
      "text/plain": [
       "<Figure size 700x700 with 1 Axes>"
      ]
     },
     "metadata": {},
     "output_type": "display_data"
    }
   ],
   "source": [
    "fig, ax = plt.subplots(figsize = (7, 7))\n",
    "\n",
    "Admitted_Data.plot(kind = 'pie', ylabel = '', startangle = 90, autopct = '%1.1f%%', colors = ['skyblue', 'firebrick'],\n",
    "       labels = ['Admitted', 'Not Admitted'], explode = (0, 0.1), wedgeprops = {'edgecolor' : 'black', 'linewidth' : 1}, shadow = True)\n",
    "\n",
    "plt.legend(title = 'Student:', loc = 'lower left')\n",
    "plt.title('Admitted Vs. Not Admitted')\n",
    "\n",
    "plt.show"
   ]
  },
  {
   "cell_type": "markdown",
   "id": "f3c8f3df-b532-4bca-9af1-1d3e19ca532a",
   "metadata": {},
   "source": [
    "# Sigmoid Function"
   ]
  },
  {
   "cell_type": "code",
   "execution_count": 8,
   "id": "dceeb02c-2857-4bc2-aca7-fd850b7e6099",
   "metadata": {},
   "outputs": [
    {
     "data": {
      "text/plain": [
       "[<matplotlib.lines.Line2D at 0x20dc8a7e0d0>]"
      ]
     },
     "execution_count": 8,
     "metadata": {},
     "output_type": "execute_result"
    },
    {
     "data": {
      "image/png": "[encoded data removed]",
      "text/plain": [
       "<Figure size 500x500 with 1 Axes>"
      ]
     },
     "metadata": {},
     "output_type": "display_data"
    }
   ],
   "source": [
    "def sigmoid(z):\n",
    "    return 1 / (1 + np.exp(-z))\n",
    "    \n",
    "nums = np.arange(-10, 10, step = 1)\n",
    "\n",
    "fig, ax = plt.subplots(figsize = (5, 5))\n",
    "ax.plot(nums, sigmoid(nums), 'b')"
   ]
  },
  {
   "cell_type": "markdown",
   "id": "029522b2-aad6-4bd4-9237-4ec8d1704c47",
   "metadata": {},
   "source": [
    "# Cost Function"
   ]
  },
  {
   "cell_type": "code",
   "execution_count": 9,
   "id": "71c4c70a-e2fd-44c8-b365-97d5851ee26f",
   "metadata": {},
   "outputs": [],
   "source": [
    "def cost(theta, X, Y):\n",
    "    theta = np.matrix(theta)\n",
    "    X = np.matrix(X)\n",
    "    Y = np.matrix(Y)\n",
    "\n",
    "    first = np.multiply(-Y, np.log(sigmoid(X * theta.T)))\n",
    "    second = np.multiply((1 - Y), np.log(1 - sigmoid(X * theta.T)))\n",
    "\n",
    "    return np.sum(first - second) / len(X)"
   ]
  },
  {
   "cell_type": "code",
   "execution_count": 10,
   "id": "cf06837e-d8e1-4702-896b-62dc0f1dd355",
   "metadata": {},
   "outputs": [],
   "source": [
    "df.insert(0, 'Ones', 1)"
   ]
  },
  {
   "cell_type": "code",
   "execution_count": 11,
   "id": "618b9044-ca06-4427-bbf8-c16840660417",
   "metadata": {},
   "outputs": [
    {
     "data": {
      "text/html": [
       "<div>\n",
       "<style scoped>\n",
       "    .dataframe tbody tr th:only-of-type {\n",
       "        vertical-align: middle;\n",
       "    }\n",
       "\n",
       "    .dataframe tbody tr th {\n",
       "        vertical-align: top;\n",
       "    }\n",
       "\n",
       "    .dataframe thead th {\n",
       "        text-align: right;\n",
       "    }\n",
       "</style>\n",
       "<table border=\"1\" class=\"dataframe\">\n",
       "  <thead>\n",
       "    <tr style=\"text-align: right;\">\n",
       "      <th></th>\n",
       "      <th>Ones</th>\n",
       "      <th>Exam 1</th>\n",
       "      <th>Exam 2</th>\n",
       "      <th>Admitted</th>\n",
       "    </tr>\n",
       "  </thead>\n",
       "  <tbody>\n",
       "    <tr>\n",
       "      <th>0</th>\n",
       "      <td>1</td>\n",
       "      <td>34.623660</td>\n",
       "      <td>78.024693</td>\n",
       "      <td>0</td>\n",
       "    </tr>\n",
       "    <tr>\n",
       "      <th>1</th>\n",
       "      <td>1</td>\n",
       "      <td>30.286711</td>\n",
       "      <td>43.894998</td>\n",
       "      <td>0</td>\n",
       "    </tr>\n",
       "    <tr>\n",
       "      <th>2</th>\n",
       "      <td>1</td>\n",
       "      <td>35.847409</td>\n",
       "      <td>72.902198</td>\n",
       "      <td>0</td>\n",
       "    </tr>\n",
       "    <tr>\n",
       "      <th>3</th>\n",
       "      <td>1</td>\n",
       "      <td>60.182599</td>\n",
       "      <td>86.308552</td>\n",
       "      <td>1</td>\n",
       "    </tr>\n",
       "    <tr>\n",
       "      <th>4</th>\n",
       "      <td>1</td>\n",
       "      <td>79.032736</td>\n",
       "      <td>75.344376</td>\n",
       "      <td>1</td>\n",
       "    </tr>\n",
       "    <tr>\n",
       "      <th>5</th>\n",
       "      <td>1</td>\n",
       "      <td>45.083277</td>\n",
       "      <td>56.316372</td>\n",
       "      <td>0</td>\n",
       "    </tr>\n",
       "    <tr>\n",
       "      <th>6</th>\n",
       "      <td>1</td>\n",
       "      <td>61.106665</td>\n",
       "      <td>96.511426</td>\n",
       "      <td>1</td>\n",
       "    </tr>\n",
       "    <tr>\n",
       "      <th>7</th>\n",
       "      <td>1</td>\n",
       "      <td>75.024746</td>\n",
       "      <td>46.554014</td>\n",
       "      <td>1</td>\n",
       "    </tr>\n",
       "    <tr>\n",
       "      <th>8</th>\n",
       "      <td>1</td>\n",
       "      <td>76.098787</td>\n",
       "      <td>87.420570</td>\n",
       "      <td>1</td>\n",
       "    </tr>\n",
       "    <tr>\n",
       "      <th>9</th>\n",
       "      <td>1</td>\n",
       "      <td>84.432820</td>\n",
       "      <td>43.533393</td>\n",
       "      <td>1</td>\n",
       "    </tr>\n",
       "  </tbody>\n",
       "</table>\n",
       "</div>"
      ],
      "text/plain": [
       "   Ones     Exam 1     Exam 2  Admitted\n",
       "0     1  34.623660  78.024693         0\n",
       "1     1  30.286711  43.894998         0\n",
       "2     1  35.847409  72.902198         0\n",
       "3     1  60.182599  86.308552         1\n",
       "4     1  79.032736  75.344376         1\n",
       "5     1  45.083277  56.316372         0\n",
       "6     1  61.106665  96.511426         1\n",
       "7     1  75.024746  46.554014         1\n",
       "8     1  76.098787  87.420570         1\n",
       "9     1  84.432820  43.533393         1"
      ]
     },
     "execution_count": 11,
     "metadata": {},
     "output_type": "execute_result"
    }
   ],
   "source": [
    "df.head(10)"
   ]
  },
  {
   "cell_type": "code",
   "execution_count": 12,
   "id": "a19ead90-2872-4b4f-bcd9-ba67c629afe0",
   "metadata": {},
   "outputs": [
    {
     "name": "stdout",
     "output_type": "stream",
     "text": [
      "X shape: (100, 3)\n",
      "theta shape: (3,)\n",
      "Y shape: (100, 1)\n"
     ]
    }
   ],
   "source": [
    "cols = df.shape[1]\n",
    "X = df.iloc[ : , 0 : cols - 1]\n",
    "Y = df.iloc[ : , cols - 1 : cols]\n",
    "\n",
    "X = np.array(X.values) # Exam 1, Exam 2\n",
    "Y = np.array(Y.values) # Admitted\n",
    "theta = np.zeros(3)\n",
    "\n",
    "print('X shape:', X.shape) # 100 Row * 2 Columns\n",
    "print('theta shape:', theta.shape)\n",
    "print('Y shape:', Y.shape) # 100 Row * 1 Column"
   ]
  },
  {
   "cell_type": "code",
   "execution_count": 13,
   "id": "0d9bd4a5-3a7f-49aa-bd2e-4759db265a81",
   "metadata": {},
   "outputs": [
    {
     "name": "stdout",
     "output_type": "stream",
     "text": [
      "Cost: 69.31%\n"
     ]
    }
   ],
   "source": [
    "This_Cost = cost(theta, X, Y)\n",
    "print('Cost:', '%.2f' % (This_Cost * 100) + '%') # Accuracy: 30.69%"
   ]
  },
  {
   "cell_type": "markdown",
   "id": "73bf5a45-2b0f-430a-82ae-1dfef56085bb",
   "metadata": {},
   "source": [
    "# Gradient Descent Optimizer"
   ]
  },
  {
   "cell_type": "code",
   "execution_count": 14,
   "id": "70173b21-4022-466c-bb39-455f5da36897",
   "metadata": {},
   "outputs": [],
   "source": [
    "def gradient(theta, X, Y):\n",
    "    theta = np.matrix(theta)\n",
    "    X = np.matrix(X)\n",
    "    Y = np.matrix(Y)\n",
    "\n",
    "    parameters = int(theta.ravel().shape[1])\n",
    "    grad = np.zeros(parameters)\n",
    "\n",
    "    error = sigmoid(X * theta.T) - Y\n",
    "\n",
    "    for i in range(parameters):\n",
    "        term = np.multiply(error, X[ : , i])\n",
    "        grad[i] = np.sum(term) / len(X)\n",
    "        \n",
    "    return grad"
   ]
  },
  {
   "cell_type": "code",
   "execution_count": 15,
   "id": "c7b02422-872e-4632-b526-1e7b1977d0e3",
   "metadata": {},
   "outputs": [],
   "source": [
    "import scipy.optimize as opt\n",
    "result = opt.fmin_tnc(func = cost, x0 = theta, fprime = gradient, args = (X, Y))"
   ]
  },
  {
   "cell_type": "code",
   "execution_count": 16,
   "id": "9cbf41ab-7bc8-44da-9bdd-e621432cc0b0",
   "metadata": {},
   "outputs": [
    {
     "name": "stdout",
     "output_type": "stream",
     "text": [
      "(array([-25.16131863,   0.20623159,   0.20147149]), 36, 0)\n"
     ]
    }
   ],
   "source": [
    "print(result)"
   ]
  },
  {
   "cell_type": "code",
   "execution_count": 17,
   "id": "af437bff-4a39-4799-91f3-bb18c8ba1c9a",
   "metadata": {},
   "outputs": [
    {
     "name": "stdout",
     "output_type": "stream",
     "text": [
      "Cost After Optimize: 20.35%\n"
     ]
    }
   ],
   "source": [
    "Cost_After_Optimize = cost(result[0], X, Y)\n",
    "print('Cost After Optimize:', '%.2f' % (Cost_After_Optimize * 100) + '%') # Accuracy: 79.65%"
   ]
  },
  {
   "cell_type": "code",
   "execution_count": 18,
   "id": "22a3145a-6b42-4390-895f-745ac6c77319",
   "metadata": {},
   "outputs": [],
   "source": [
    "def predict(theta, X):\n",
    "    \n",
    "    probability = sigmoid(X * theta.T)\n",
    "    \n",
    "    return [1 if x >= 0.5 else 0 for x in probability]"
   ]
  },
  {
   "cell_type": "code",
   "execution_count": 19,
   "id": "3476a6e1-893c-4e9a-9f28-f1d8a76d57c4",
   "metadata": {},
   "outputs": [
    {
     "name": "stdout",
     "output_type": "stream",
     "text": [
      "Accuracy: 89%\n"
     ]
    }
   ],
   "source": [
    "theta_minimum = np.matrix(result[0])\n",
    "\n",
    "predictions = predict(theta_minimum, X)\n",
    "\n",
    "correct = [1 if ((a == 1 and b == 1) or (a == 0 and b == 0)) else 0 for (a, b) in zip(predictions, Y)]\n",
    "\n",
    "accuracy = sum(map(int, correct)) % len(correct)\n",
    "print(f'Accuracy: {accuracy}%')"
   ]
  },
  {
   "cell_type": "markdown",
   "id": "51f7fe08-45d6-4bec-a51d-fe6cf6633f19",
   "metadata": {},
   "source": [
    "# Thank You "
   ]
  },
  {
   "cell_type": "markdown",
   "id": "a81dad84-5ccf-4ab6-9d8d-03c1126312b5",
   "metadata": {},
   "source": [
    "# Eng. Abdulrhman Osama"
   ]
  }
 ],
 "metadata": {
  "kernelspec": {
   "display_name": "Python 3 (ipykernel)",
   "language": "python",
   "name": "python3"
  },
  "language_info": {
   "codemirror_mode": {
    "name": "ipython",
    "version": 3
   },
   "file_extension": ".py",
   "mimetype": "text/x-python",
   "name": "python",
   "nbconvert_exporter": "python",
   "pygments_lexer": "ipython3",
   "version": "3.11.7"
  }
 },
 "nbformat": 4,
 "nbformat_minor": 5
}
